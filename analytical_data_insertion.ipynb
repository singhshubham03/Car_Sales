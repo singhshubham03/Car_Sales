{
 "cells": [
  {
   "cell_type": "code",
   "execution_count": 1,
   "id": "4c6a86f3",
   "metadata": {},
   "outputs": [],
   "source": [
    "from mydbutils import make_connection, do_query_return_all\n",
    "import csv\n",
    "from pandas import DataFrame"
   ]
  },
  {
   "cell_type": "code",
   "execution_count": 2,
   "id": "89d3b768",
   "metadata": {},
   "outputs": [],
   "source": [
    "conn_cars = make_connection(config_file = 'config-cars.ini')\n",
    "cursor_cars = conn_cars.cursor()\n",
    "conn_cars_analysis = make_connection(config_file = 'config-cars_analysis.ini')\n",
    "cursor_cars_analysis = conn_cars_analysis.cursor()"
   ]
  },
  {
   "cell_type": "code",
   "execution_count": 3,
   "id": "668a95a4",
   "metadata": {},
   "outputs": [],
   "source": [
    "def display_table(table, order_by=''):\n",
    "    sql = f\"SELECT * FROM {table}\"\n",
    "    \n",
    "    if order_by != '':\n",
    "        sql = sql + \" ORDER BY \" + order_by\n",
    "    \n",
    "    cursor_cars_analysis.execute(sql)\n",
    "\n",
    "    columns = cursor_cars_analysis.description\n",
    "    column_names = [column_info[0] for column_info in columns]\n",
    "\n",
    "    df = DataFrame(cursor_cars_analysis.fetchall())\n",
    "    df.columns = column_names\n",
    "    \n",
    "    return df"
   ]
  },
  {
   "cell_type": "code",
   "execution_count": 11,
   "id": "9670a69d",
   "metadata": {},
   "outputs": [
    {
     "data": {
      "text/html": [
       "<div>\n",
       "<style scoped>\n",
       "    .dataframe tbody tr th:only-of-type {\n",
       "        vertical-align: middle;\n",
       "    }\n",
       "\n",
       "    .dataframe tbody tr th {\n",
       "        vertical-align: top;\n",
       "    }\n",
       "\n",
       "    .dataframe thead th {\n",
       "        text-align: right;\n",
       "    }\n",
       "</style>\n",
       "<table border=\"1\" class=\"dataframe\">\n",
       "  <thead>\n",
       "    <tr style=\"text-align: right;\">\n",
       "      <th></th>\n",
       "      <th>car_key</th>\n",
       "      <th>car_id</th>\n",
       "      <th>car_name</th>\n",
       "      <th>car_make</th>\n",
       "      <th>car_type</th>\n",
       "    </tr>\n",
       "  </thead>\n",
       "  <tbody>\n",
       "    <tr>\n",
       "      <th>0</th>\n",
       "      <td>46</td>\n",
       "      <td>100</td>\n",
       "      <td>Vitara</td>\n",
       "      <td>Saturn</td>\n",
       "      <td>Hatchback</td>\n",
       "    </tr>\n",
       "    <tr>\n",
       "      <th>1</th>\n",
       "      <td>47</td>\n",
       "      <td>100</td>\n",
       "      <td>Vitara</td>\n",
       "      <td>Saturn</td>\n",
       "      <td>SUV</td>\n",
       "    </tr>\n",
       "    <tr>\n",
       "      <th>2</th>\n",
       "      <td>48</td>\n",
       "      <td>100</td>\n",
       "      <td>Vitara</td>\n",
       "      <td>Saturn</td>\n",
       "      <td>MUV</td>\n",
       "    </tr>\n",
       "    <tr>\n",
       "      <th>3</th>\n",
       "      <td>49</td>\n",
       "      <td>100</td>\n",
       "      <td>Vitara</td>\n",
       "      <td>Saturn</td>\n",
       "      <td>Sedan</td>\n",
       "    </tr>\n",
       "    <tr>\n",
       "      <th>4</th>\n",
       "      <td>50</td>\n",
       "      <td>100</td>\n",
       "      <td>Vitara</td>\n",
       "      <td>Saturn</td>\n",
       "      <td>Hybrid</td>\n",
       "    </tr>\n",
       "  </tbody>\n",
       "</table>\n",
       "</div>"
      ],
      "text/plain": [
       "   car_key  car_id car_name car_make   car_type\n",
       "0       46     100   Vitara   Saturn  Hatchback\n",
       "1       47     100   Vitara   Saturn        SUV\n",
       "2       48     100   Vitara   Saturn        MUV\n",
       "3       49     100   Vitara   Saturn      Sedan\n",
       "4       50     100   Vitara   Saturn     Hybrid"
      ]
     },
     "execution_count": 11,
     "metadata": {},
     "output_type": "execute_result"
    }
   ],
   "source": [
    "sql = ( \"\"\"\n",
    "        INSERT INTO cars_analysis.dm_car(car_id, \n",
    "                           car_name, \n",
    "                           car_make, \n",
    "                           car_type)\n",
    "            SELECT car.car_id, car.car_name, car_make.make, car_type.type_name\n",
    "            FROM cars.car, cars.car_make, cars.car_type LIMIT 10\n",
    "        \"\"\"\n",
    "      )\n",
    "cursor_cars.execute(sql)\n",
    "conn_cars.commit()\n",
    "\n",
    "display_table('dm_car', 'car_id')"
   ]
  },
  {
   "cell_type": "code",
   "execution_count": 12,
   "id": "e4cc85d0",
   "metadata": {},
   "outputs": [
    {
     "ename": "ProgrammingError",
     "evalue": "1146 (42S02): Table 'cars_analysis.dm_dealer' doesn't exist",
     "output_type": "error",
     "traceback": [
      "\u001b[1;31m---------------------------------------------------------------------------\u001b[0m",
      "\u001b[1;31mProgrammingError\u001b[0m                          Traceback (most recent call last)",
      "Input \u001b[1;32mIn [12]\u001b[0m, in \u001b[0;36m<cell line: 11>\u001b[1;34m()\u001b[0m\n\u001b[0;32m      1\u001b[0m sql \u001b[38;5;241m=\u001b[39m ( \u001b[38;5;124m\"\"\"\u001b[39m\n\u001b[0;32m      2\u001b[0m \u001b[38;5;124m        INSERT INTO cars_analysis.dm_dealer(dealer_id, \u001b[39m\n\u001b[0;32m      3\u001b[0m \u001b[38;5;124m                              dealer_name, \u001b[39m\n\u001b[1;32m   (...)\u001b[0m\n\u001b[0;32m      8\u001b[0m \u001b[38;5;124m        \u001b[39m\u001b[38;5;124m\"\"\"\u001b[39m\n\u001b[0;32m      9\u001b[0m       )\n\u001b[1;32m---> 11\u001b[0m \u001b[43mcursor_cars\u001b[49m\u001b[38;5;241;43m.\u001b[39;49m\u001b[43mexecute\u001b[49m\u001b[43m(\u001b[49m\u001b[43msql\u001b[49m\u001b[43m)\u001b[49m\n\u001b[0;32m     12\u001b[0m conn_cars\u001b[38;5;241m.\u001b[39mcommit()\n\u001b[0;32m     14\u001b[0m display_table(\u001b[38;5;124m'\u001b[39m\u001b[38;5;124mdm_dealer\u001b[39m\u001b[38;5;124m'\u001b[39m, \u001b[38;5;124m'\u001b[39m\u001b[38;5;124mdealer_id\u001b[39m\u001b[38;5;124m'\u001b[39m)\n",
      "File \u001b[1;32m~\\anaconda3\\lib\\site-packages\\mysql\\connector\\cursor.py:561\u001b[0m, in \u001b[0;36mMySQLCursor.execute\u001b[1;34m(self, operation, params, multi)\u001b[0m\n\u001b[0;32m    558\u001b[0m     \u001b[38;5;28;01mreturn\u001b[39;00m \u001b[38;5;28mself\u001b[39m\u001b[38;5;241m.\u001b[39m_execute_iter(\u001b[38;5;28mself\u001b[39m\u001b[38;5;241m.\u001b[39m_connection\u001b[38;5;241m.\u001b[39mcmd_query_iter(stmt))\n\u001b[0;32m    560\u001b[0m \u001b[38;5;28;01mtry\u001b[39;00m:\n\u001b[1;32m--> 561\u001b[0m     \u001b[38;5;28mself\u001b[39m\u001b[38;5;241m.\u001b[39m_handle_result(\u001b[38;5;28;43mself\u001b[39;49m\u001b[38;5;241;43m.\u001b[39;49m\u001b[43m_connection\u001b[49m\u001b[38;5;241;43m.\u001b[39;49m\u001b[43mcmd_query\u001b[49m\u001b[43m(\u001b[49m\u001b[43mstmt\u001b[49m\u001b[43m)\u001b[49m)\n\u001b[0;32m    562\u001b[0m \u001b[38;5;28;01mexcept\u001b[39;00m InterfaceError \u001b[38;5;28;01mas\u001b[39;00m err:\n\u001b[0;32m    563\u001b[0m     \u001b[38;5;28;01mif\u001b[39;00m \u001b[38;5;28mself\u001b[39m\u001b[38;5;241m.\u001b[39m_connection\u001b[38;5;241m.\u001b[39mhave_next_result:\n",
      "File \u001b[1;32m~\\anaconda3\\lib\\site-packages\\mysql\\connector\\connection.py:990\u001b[0m, in \u001b[0;36mMySQLConnection.cmd_query\u001b[1;34m(self, query, raw, buffered, raw_as_string)\u001b[0m\n\u001b[0;32m    988\u001b[0m query \u001b[38;5;241m=\u001b[39m \u001b[38;5;28mbytes\u001b[39m(packet)\n\u001b[0;32m    989\u001b[0m \u001b[38;5;28;01mtry\u001b[39;00m:\n\u001b[1;32m--> 990\u001b[0m     result \u001b[38;5;241m=\u001b[39m \u001b[38;5;28;43mself\u001b[39;49m\u001b[38;5;241;43m.\u001b[39;49m\u001b[43m_handle_result\u001b[49m\u001b[43m(\u001b[49m\u001b[38;5;28;43mself\u001b[39;49m\u001b[38;5;241;43m.\u001b[39;49m\u001b[43m_send_cmd\u001b[49m\u001b[43m(\u001b[49m\u001b[43mServerCmd\u001b[49m\u001b[38;5;241;43m.\u001b[39;49m\u001b[43mQUERY\u001b[49m\u001b[43m,\u001b[49m\u001b[43m \u001b[49m\u001b[43mquery\u001b[49m\u001b[43m)\u001b[49m\u001b[43m)\u001b[49m\n\u001b[0;32m    991\u001b[0m \u001b[38;5;28;01mexcept\u001b[39;00m ProgrammingError \u001b[38;5;28;01mas\u001b[39;00m err:\n\u001b[0;32m    992\u001b[0m     \u001b[38;5;28;01mif\u001b[39;00m err\u001b[38;5;241m.\u001b[39merrno \u001b[38;5;241m==\u001b[39m \u001b[38;5;241m3948\u001b[39m \u001b[38;5;129;01mand\u001b[39;00m \u001b[38;5;124m\"\u001b[39m\u001b[38;5;124mLoading local data is disabled\u001b[39m\u001b[38;5;124m\"\u001b[39m \u001b[38;5;129;01min\u001b[39;00m err\u001b[38;5;241m.\u001b[39mmsg:\n",
      "File \u001b[1;32m~\\anaconda3\\lib\\site-packages\\mysql\\connector\\connection.py:784\u001b[0m, in \u001b[0;36mMySQLConnection._handle_result\u001b[1;34m(self, packet)\u001b[0m\n\u001b[0;32m    782\u001b[0m     \u001b[38;5;28;01mreturn\u001b[39;00m \u001b[38;5;28mself\u001b[39m\u001b[38;5;241m.\u001b[39m_handle_eof(packet)\n\u001b[0;32m    783\u001b[0m \u001b[38;5;28;01mif\u001b[39;00m packet[\u001b[38;5;241m4\u001b[39m] \u001b[38;5;241m==\u001b[39m \u001b[38;5;241m255\u001b[39m:\n\u001b[1;32m--> 784\u001b[0m     \u001b[38;5;28;01mraise\u001b[39;00m get_exception(packet)\n\u001b[0;32m    786\u001b[0m \u001b[38;5;66;03m# We have a text result set\u001b[39;00m\n\u001b[0;32m    787\u001b[0m column_count \u001b[38;5;241m=\u001b[39m \u001b[38;5;28mself\u001b[39m\u001b[38;5;241m.\u001b[39m_protocol\u001b[38;5;241m.\u001b[39mparse_column_count(packet)\n",
      "\u001b[1;31mProgrammingError\u001b[0m: 1146 (42S02): Table 'cars_analysis.dm_dealer' doesn't exist"
     ]
    }
   ],
   "source": [
    "sql = ( \"\"\"\n",
    "        INSERT INTO cars_analysis.dm_dealer(dealer_id, \n",
    "                              dealer_name, \n",
    "                              age, \n",
    "                              gender)\n",
    "            SELECT DISTINCT dealer_id, dealer_name, age, gender\n",
    "            FROM cars.dealer\n",
    "        \"\"\"\n",
    "      )\n",
    "\n",
    "cursor_cars.execute(sql)\n",
    "conn_cars.commit()\n",
    "\n",
    "display_table('dm_dealer', 'dealer_id')"
   ]
  },
  {
   "cell_type": "code",
   "execution_count": null,
   "id": "a29c1974",
   "metadata": {},
   "outputs": [],
   "source": [
    "sql = ( \"\"\"\n",
    "        INSERT INTO cars_analysis.dm_region(reg_id, \n",
    "                              city)\n",
    "            SELECT DISTINCT reg_id, city\n",
    "            FROM cars.region\n",
    "        \"\"\"\n",
    "      )\n",
    "\n",
    "cursor_cars.execute(sql)\n",
    "conn_cars.commit()\n",
    "\n",
    "display_table('dm_region', 'reg_id')"
   ]
  },
  {
   "cell_type": "code",
   "execution_count": null,
   "id": "fa40fac3",
   "metadata": {},
   "outputs": [],
   "source": [
    "sql = ( \"\"\"\n",
    "        INSERT INTO cars_analysis.dm_calender(month, \n",
    "                           year)\n",
    "            SELECT DISTINCT month, year\n",
    "            FROM cars.car_sale\n",
    "        \"\"\"\n",
    "      )\n",
    "\n",
    "cursor_cars.execute(sql)\n",
    "conn_cars.commit()\n",
    "\n",
    "display_table('dm_calender', 'month')"
   ]
  },
  {
   "cell_type": "code",
   "execution_count": null,
   "id": "5c55aac5",
   "metadata": {},
   "outputs": [],
   "source": [
    "sql = ( \"\"\"\n",
    "        INSERT INTO cars_analysis.dm_customer(customer_id, \n",
    "                              customer_name, \n",
    "                              age, \n",
    "                              gender)\n",
    "            SELECT DISTINCT customer_id, customer_name, age, gender\n",
    "            FROM cars.customer\n",
    "        \"\"\"\n",
    "      )\n",
    "\n",
    "cursor_cars.execute(sql)\n",
    "conn_cars.commit()\n",
    "\n",
    "display_table('dm_customer', 'customer_id')"
   ]
  },
  {
   "cell_type": "markdown",
   "id": "73b7f68c",
   "metadata": {},
   "source": [
    "### insert into fact table"
   ]
  },
  {
   "cell_type": "code",
   "execution_count": null,
   "id": "94c2a728",
   "metadata": {},
   "outputs": [],
   "source": [
    "sql = ( \"\"\"\n",
    "        INSERT INTO cars_analysis.fact_purchase(dealer_key, \n",
    "                                                car_key, \n",
    "                                                reg_key, \n",
    "                                                cal_key,\n",
    "                                                sale_units)\n",
    "            SELECT DISTINCT dealer_key, \n",
    "                            car_key, \n",
    "                            reg_key, \n",
    "                            cal_key,\n",
    "                            sale_units.\n",
    "            FROM cars_analysis.dm_dealer,cars_analysis.dm_car,\n",
    "                 cars_analysis.dm_region,cars_analysis.dm_calender, \n",
    "                 cars.car_sale\n",
    "        \"\"\"\n",
    "      )\n",
    "\n",
    "cursor_cars.execute(sql)\n",
    "conn_cars.commit()\n",
    "\n",
    "display_table('fact_purchase', 'fact_purchase_key')"
   ]
  },
  {
   "cell_type": "code",
   "execution_count": null,
   "id": "dfde370b",
   "metadata": {},
   "outputs": [],
   "source": [
    "sql = ( \"\"\"\n",
    "        INSERT INTO cars_analysis.fact_customer(customer_key,\n",
    "                                                dealer_key, \n",
    "                                                car_key, \n",
    "                                                reg_key, \n",
    "                                                cal_key,\n",
    "                                                sale_price)\n",
    "            SELECT DISTINCT customer_key,\n",
    "                            dealer_key, \n",
    "                            car_key, \n",
    "                            reg_key, \n",
    "                            cal_key,\n",
    "                            sale_price\n",
    "            FROM cars_analysis.dm_customer,cars_analysis.dm_dealer,\n",
    "                 cars_analysis.dm_car,cars_analysis.dm_region,\n",
    "                 cars_analysis.dm_calender, cars.price\n",
    "        \"\"\"\n",
    "      )\n",
    "\n",
    "cursor_cars.execute(sql)\n",
    "conn_cars.commit()\n",
    "\n",
    "display_table('fact_customer', 'fact_customer_key')"
   ]
  },
  {
   "cell_type": "code",
   "execution_count": null,
   "id": "d5839e56",
   "metadata": {},
   "outputs": [],
   "source": [
    "cursor_cars.close()\n",
    "conn_cars.close()\n",
    "cursor_cars_analysis.close()\n",
    "conn_cars_analysis.close()"
   ]
  }
 ],
 "metadata": {
  "kernelspec": {
   "display_name": "Python 3 (ipykernel)",
   "language": "python",
   "name": "python3"
  },
  "language_info": {
   "codemirror_mode": {
    "name": "ipython",
    "version": 3
   },
   "file_extension": ".py",
   "mimetype": "text/x-python",
   "name": "python",
   "nbconvert_exporter": "python",
   "pygments_lexer": "ipython3",
   "version": "3.9.7"
  }
 },
 "nbformat": 4,
 "nbformat_minor": 5
}
