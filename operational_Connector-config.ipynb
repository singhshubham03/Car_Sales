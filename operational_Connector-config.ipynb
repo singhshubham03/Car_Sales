{
 "cells": [
  {
   "cell_type": "code",
   "execution_count": 1,
   "id": "8c2769b7-ab08-4ad8-af36-6257935e2508",
   "metadata": {},
   "outputs": [],
   "source": [
    "from mysql.connector import MySQLConnection, Error\n",
    "from configparser import ConfigParser"
   ]
  },
  {
   "cell_type": "code",
   "execution_count": 2,
   "id": "a346cfcb-d3fa-4eee-9a78-37ee44cda8d7",
   "metadata": {},
   "outputs": [],
   "source": [
    "def read_config(config_file = 'config-cars.ini', section = 'mysql'):\n",
    "    parser = ConfigParser()\n",
    "    parser.read(config_file)\n",
    "    \n",
    "    config = {}\n",
    "    \n",
    "    if parser.has_section(section):\n",
    "        # Parse the configuration file.\n",
    "        items = parser.items(section)\n",
    "        \n",
    "        # Construct the parameter dictionary.\n",
    "        for item in items:\n",
    "            config[item[0]] = item[1]\n",
    "            \n",
    "    else:\n",
    "        raise Exception(f'Section [{section}] missing ' + \\\n",
    "                        f'in config file {filename}')\n",
    "    \n",
    "    return config"
   ]
  },
  {
   "cell_type": "code",
   "execution_count": 3,
   "id": "c47ee4dc-7edc-43e9-9d13-bf58202492c5",
   "metadata": {},
   "outputs": [
    {
     "data": {
      "text/plain": [
       "{'host': 'localhost',\n",
       " 'database': 'cars',\n",
       " 'user': 'root',\n",
       " 'password': 'Sudireddy@root'}"
      ]
     },
     "execution_count": 3,
     "metadata": {},
     "output_type": "execute_result"
    }
   ],
   "source": [
    "db_config = read_config()\n",
    "db_config"
   ]
  },
  {
   "cell_type": "code",
   "execution_count": 4,
   "id": "2f771bb7-d8a6-43be-a48b-109a48ef607b",
   "metadata": {},
   "outputs": [],
   "source": [
    "def make_connection(config_file = 'config-cars.ini', section = 'mysql'):\n",
    "    try:\n",
    "        db_config = read_config(config_file, section)            \n",
    "        conn = MySQLConnection(**db_config)\n",
    "        \n",
    "        if conn.is_connected():\n",
    "            return conn\n",
    "                \n",
    "    except Error as e:\n",
    "        print('Connection failed.')\n",
    "        print(e)\n",
    "        \n",
    "        return None"
   ]
  },
  {
   "cell_type": "code",
   "execution_count": 5,
   "id": "40968cd0-5870-4334-9f62-77d45575b6b8",
   "metadata": {},
   "outputs": [],
   "source": [
    "def do_query_return_all(conn, sql):\n",
    "    cursor = None\n",
    "    \n",
    "    try:\n",
    "        # Do the query.\n",
    "        cursor = conn.cursor()\n",
    "        cursor.execute(sql);\n",
    "\n",
    "        # Return the fetched data as a list of tuples,\n",
    "        # one tuple per table row.\n",
    "        rows = cursor.fetchall()\n",
    "        count = cursor.rowcount\n",
    "\n",
    "        cursor.close()\n",
    "        return [rows, count]\n",
    "\n",
    "    except Error as e:\n",
    "        print('Query failed')\n",
    "        print(e)\n",
    "\n",
    "        cursor.close()\n",
    "        return [(), 0]"
   ]
  },
  {
   "cell_type": "code",
   "execution_count": 6,
   "id": "b9c58069-a218-4f8a-9a9f-8e2a69b6a5dc",
   "metadata": {},
   "outputs": [
    {
     "data": {
      "text/plain": [
       "<mysql.connector.connection.MySQLConnection at 0x28090e29280>"
      ]
     },
     "execution_count": 6,
     "metadata": {},
     "output_type": "execute_result"
    }
   ],
   "source": [
    "conn = make_connection()\n",
    "conn"
   ]
  },
  {
   "cell_type": "code",
   "execution_count": 7,
   "id": "470614bf-0202-4e8f-9491-8eeb0d47fefe",
   "metadata": {},
   "outputs": [],
   "source": [
    "conn.close()"
   ]
  },
  {
   "cell_type": "code",
   "execution_count": null,
   "id": "538996ad",
   "metadata": {},
   "outputs": [],
   "source": []
  },
  {
   "cell_type": "code",
   "execution_count": null,
   "id": "966dbac5",
   "metadata": {},
   "outputs": [],
   "source": []
  }
 ],
 "metadata": {
  "kernelspec": {
   "display_name": "Python 3 (ipykernel)",
   "language": "python",
   "name": "python3"
  },
  "language_info": {
   "codemirror_mode": {
    "name": "ipython",
    "version": 3
   },
   "file_extension": ".py",
   "mimetype": "text/x-python",
   "name": "python",
   "nbconvert_exporter": "python",
   "pygments_lexer": "ipython3",
   "version": "3.9.7"
  }
 },
 "nbformat": 4,
 "nbformat_minor": 5
}
