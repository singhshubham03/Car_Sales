{
 "cells": [
  {
   "cell_type": "code",
   "execution_count": 1,
   "id": "4678ac3c-f28a-4ca9-a8b4-a15f1eccf4df",
   "metadata": {},
   "outputs": [],
   "source": [
    "from mydbutils import make_connection, do_query_return_all\n",
    "import csv"
   ]
  },
  {
   "cell_type": "code",
   "execution_count": 2,
   "id": "90ebd0ce",
   "metadata": {},
   "outputs": [],
   "source": [
    "import pandas as pd"
   ]
  },
  {
   "cell_type": "code",
   "execution_count": 3,
   "id": "2d58731a",
   "metadata": {},
   "outputs": [
    {
     "data": {
      "text/plain": [
       "<mysql.connector.connection.MySQLConnection at 0x1c75a90de80>"
      ]
     },
     "execution_count": 3,
     "metadata": {},
     "output_type": "execute_result"
    }
   ],
   "source": [
    "conn = make_connection(config_file = 'config-cars.ini')\n",
    "conn"
   ]
  },
  {
   "cell_type": "code",
   "execution_count": 4,
   "id": "effedaf1",
   "metadata": {},
   "outputs": [],
   "source": [
    "cursor = conn.cursor()"
   ]
  },
  {
   "cell_type": "code",
   "execution_count": 35,
   "id": "00645d8e",
   "metadata": {},
   "outputs": [],
   "source": [
    "sql_1 = ( \"INSERT INTO customer \\n\"\n",
    "        + \"VALUES (%s, %s, %s, %s, %s)\"\n",
    "        )\n",
    "\n",
    "sql_2 = ( \"INSERT INTO car_make \\n\"\n",
    "        + \"VALUES (%s, %s)\"\n",
    "        )\n",
    "\n",
    "sql_3 = ( \"INSERT INTO car_type \\n\"\n",
    "        + \"VALUES (%s, %s)\"\n",
    "        )\n",
    "\n",
    "sql_4 = ( \"INSERT INTO car \\n\"\n",
    "        + \"VALUES (%s, %s, %s, %s, %s)\"\n",
    "        )\n",
    "\n",
    "sql_5 = ( \"INSERT INTO region \\n\"\n",
    "        + \"VALUES (%s, %s)\"\n",
    "        )\n",
    "\n",
    "sql_7 = ( \"INSERT INTO dealer \\n\"\n",
    "        + \"VALUES (%s, %s, %s, %s, %s)\"\n",
    "        )\n",
    "\n",
    "sql_6 = ( \"INSERT INTO car_sale (dealer_id, customer_id, car_id, reg_id, sale_units, year, month) \\n\"\n",
    "        + \"VALUES (%s, %s, %s, %s, %s, %s, %s)\"\n",
    "        )\n"
   ]
  },
  {
   "cell_type": "code",
   "execution_count": 6,
   "id": "924b1854-2a2d-4197-b870-389f2b35a478",
   "metadata": {},
   "outputs": [],
   "source": [
    "first = True\n",
    "\n",
    "with open('customer.csv', newline='') as csv_file:\n",
    "    data = csv.reader(csv_file, delimiter=',', quotechar='\"')\n",
    "    \n",
    "    for row in data:\n",
    "        if not first:\n",
    "            cursor.execute(sql_1, row)\n",
    "            \n",
    "        first = False\n",
    "    \n",
    "conn.commit()"
   ]
  },
  {
   "cell_type": "code",
   "execution_count": 7,
   "id": "346f800d",
   "metadata": {},
   "outputs": [],
   "source": [
    "first = True\n",
    "\n",
    "with open('car_make.csv', newline='') as csv_file:\n",
    "    data = csv.reader(csv_file, delimiter=',', quotechar='\"')\n",
    "    \n",
    "    for row in data:\n",
    "        if not first:\n",
    "            cursor.execute(sql_2, row)\n",
    "            \n",
    "        first = False\n",
    "    \n",
    "conn.commit()"
   ]
  },
  {
   "cell_type": "code",
   "execution_count": 8,
   "id": "f21a5658",
   "metadata": {},
   "outputs": [],
   "source": [
    "first = True\n",
    "\n",
    "with open('car_type.csv', newline='') as csv_file:\n",
    "    data = csv.reader(csv_file, delimiter=',', quotechar='\"')\n",
    "    \n",
    "    for row in data:\n",
    "        if not first:\n",
    "            cursor.execute(sql_3, row)\n",
    "            \n",
    "        first = False\n",
    "    \n",
    "conn.commit()"
   ]
  },
  {
   "cell_type": "code",
   "execution_count": 9,
   "id": "f4614d6e",
   "metadata": {},
   "outputs": [],
   "source": [
    "first = True\n",
    "\n",
    "with open('car.csv', newline='') as csv_file:\n",
    "    data = csv.reader(csv_file, delimiter=',', quotechar='\"')\n",
    "    \n",
    "    for row in data:\n",
    "        if not first:\n",
    "            cursor.execute(sql_4, row)\n",
    "            \n",
    "        first = False\n",
    "    \n",
    "conn.commit()"
   ]
  },
  {
   "cell_type": "code",
   "execution_count": 10,
   "id": "4c628298",
   "metadata": {},
   "outputs": [],
   "source": [
    "first = True\n",
    "\n",
    "with open('region.csv', newline='') as csv_file:\n",
    "    data = csv.reader(csv_file, delimiter=',', quotechar='\"')\n",
    "    \n",
    "    for row in data:\n",
    "        if not first:\n",
    "            cursor.execute(sql_5, row)\n",
    "            \n",
    "        first = False\n",
    "    \n",
    "conn.commit()"
   ]
  },
  {
   "cell_type": "code",
   "execution_count": 11,
   "id": "80022d93",
   "metadata": {},
   "outputs": [],
   "source": [
    "first = True\n",
    "\n",
    "with open('dealer.csv', newline='') as csv_file:\n",
    "    data = csv.reader(csv_file, delimiter=',', quotechar='\"')\n",
    "    \n",
    "    for row in data:\n",
    "        if not first:\n",
    "            cursor.execute(sql_7, row)\n",
    "            \n",
    "        first = False\n",
    "    \n",
    "conn.commit()"
   ]
  },
  {
   "cell_type": "code",
   "execution_count": 37,
   "id": "cb5fc551",
   "metadata": {
    "scrolled": true
   },
   "outputs": [],
   "source": [
    "first = True\n",
    "\n",
    "with open('car_sale.csv', newline='') as csv_file:\n",
    "    data = csv.reader(csv_file, delimiter=',', quotechar='\"')\n",
    "    \n",
    "    for row in data:\n",
    "        if not first:\n",
    "            cursor.execute(sql_6, row)\n",
    "            \n",
    "        first = False\n",
    "    \n",
    "conn.commit()"
   ]
  },
  {
   "cell_type": "code",
   "execution_count": 38,
   "id": "1eae7b63",
   "metadata": {},
   "outputs": [],
   "source": [
    "def transform(row):\n",
    "    deal = pd.read_csv('dealer.csv')\n",
    "    for i,ft in enumerate(deal['dealer_name']):\n",
    "        if row[1]==ft:\n",
    "            row[1]=dealer['dealer_id'][i]\n",
    "            \n",
    "    cust = pd.read_csv('customer.csv')\n",
    "    for i,ft in enumerate(cust['name']):\n",
    "        if row[2]==ft:\n",
    "            row[2]=customer['customer_id'][i]\n",
    "            \n",
    "            \n",
    "    trans = pd.read_csv('car.csv')\n",
    "    for i,ft in enumerate(trans['car_name']):\n",
    "        if row[3]==ft:\n",
    "            row[3]=make['car_id'][i]\n",
    "            \n",
    "    location = pd.read_csv('region.csv')\n",
    "    for i,ft in enumerate(location['city']):\n",
    "        if row[4]==ft:\n",
    "            row[4]=cty['reg_id'][i] \n",
    "            "
   ]
  },
  {
   "cell_type": "code",
   "execution_count": null,
   "id": "4ae0fd52",
   "metadata": {},
   "outputs": [],
   "source": [
    "cursor.close()\n",
    "conn.close()"
   ]
  },
  {
   "cell_type": "code",
   "execution_count": null,
   "id": "1e69afa3",
   "metadata": {},
   "outputs": [],
   "source": []
  }
 ],
 "metadata": {
  "kernelspec": {
   "display_name": "Python 3 (ipykernel)",
   "language": "python",
   "name": "python3"
  },
  "language_info": {
   "codemirror_mode": {
    "name": "ipython",
    "version": 3
   },
   "file_extension": ".py",
   "mimetype": "text/x-python",
   "name": "python",
   "nbconvert_exporter": "python",
   "pygments_lexer": "ipython3",
   "version": "3.9.7"
  }
 },
 "nbformat": 4,
 "nbformat_minor": 5
}
