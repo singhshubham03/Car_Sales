{
 "cells": [
  {
   "cell_type": "code",
   "execution_count": 18,
   "id": "a09bdacb",
   "metadata": {},
   "outputs": [],
   "source": [
    "# Importing all the necessary libraries\n",
    "\n",
    "from mysql.connector import MySQLConnection, Error\n",
    "from mydbutils import make_connection, do_query_return_all"
   ]
  },
  {
   "cell_type": "code",
   "execution_count": 19,
   "id": "8493aa75",
   "metadata": {},
   "outputs": [
    {
     "data": {
      "text/plain": [
       "<mysql.connector.connection.MySQLConnection at 0x14e648a7fa0>"
      ]
     },
     "execution_count": 19,
     "metadata": {},
     "output_type": "execute_result"
    }
   ],
   "source": [
    "# creating the mysql connection\n",
    "\n",
    "conn = make_connection(config_file = 'config-cars_analysis.ini')\n",
    "conn"
   ]
  },
  {
   "cell_type": "code",
   "execution_count": 20,
   "id": "922e9f53",
   "metadata": {},
   "outputs": [
    {
     "data": {
      "text/plain": [
       "<mysql.connector.cursor.MySQLCursor at 0x14e648cd9a0>"
      ]
     },
     "execution_count": 20,
     "metadata": {},
     "output_type": "execute_result"
    }
   ],
   "source": [
    "# creating cursor to perform sql operations\n",
    "\n",
    "cursor = conn.cursor()\n",
    "cursor"
   ]
  },
  {
   "cell_type": "code",
   "execution_count": null,
   "id": "40d24535",
   "metadata": {
    "scrolled": true
   },
   "outputs": [],
   "source": [
    "# Deleting the tables if already exists, so that we recrete them using sql commands\n",
    "\n",
    "cursor.execute('DROP TABLE IF EXISTS dm_customer')\n",
    "cursor.execute('DROP TABLE IF EXISTS dm_car')\n",
    "cursor.execute('DROP TABLE IF EXISTS dm_dealer')\n",
    "cursor.execute('DROP TABLE IF EXISTS dm_region')\n",
    "cursor.execute('DROP TABLE IF EXISTS dm_calender')\n",
    "cursor.execute('DROP TABLE IF EXISTS fact_purchase')\n",
    "cursor.execute('DROP TABLE IF EXISTS fact_customer')\n",
    "\n",
    "print(\"existing tables dropped\")"
   ]
  },
  {
   "cell_type": "markdown",
   "id": "e0d7258a",
   "metadata": {},
   "source": [
    "creating the car dimension table"
   ]
  },
  {
   "cell_type": "code",
   "execution_count": 5,
   "id": "b9cde80a",
   "metadata": {},
   "outputs": [
    {
     "name": "stdout",
     "output_type": "stream",
     "text": [
      "CREATE TABLE dm_car \n",
      "(\n",
      "    car_key    INT NOT NULL AUTO_INCREMENT,       \n",
      "    car_id     int,                   \n",
      "    car_name   varchar(10) NOT NULL,  \n",
      "    car_make   varchar(10) NOT NULL,  \n",
      "    car_type   varchar(45) NOT NULL,  \n",
      "    PRIMARY KEY(car_key))\n"
     ]
    }
   ],
   "source": [
    "sql_car = ( \"CREATE TABLE dm_car \\n\"\n",
    "      + '(\\n'\n",
    "      + '    car_key    INT NOT NULL AUTO_INCREMENT,       \\n'\n",
    "      + '    car_id     int,                   \\n'\n",
    "      + '    car_name   varchar(10) NOT NULL,  \\n'\n",
    "      + '    car_make   varchar(10) NOT NULL,  \\n'\n",
    "      + '    car_type   varchar(45) NOT NULL,  \\n'\n",
    "      + '    PRIMARY KEY(car_key)'\n",
    "      + ')'\n",
    "      )\n",
    "\n",
    "print(sql_car)"
   ]
  },
  {
   "cell_type": "markdown",
   "id": "bf369646",
   "metadata": {},
   "source": [
    "creating the customer dimension table which has all the details of customer"
   ]
  },
  {
   "cell_type": "code",
   "execution_count": 6,
   "id": "2c226074",
   "metadata": {},
   "outputs": [
    {
     "name": "stdout",
     "output_type": "stream",
     "text": [
      "CREATE TABLE dm_dealer \n",
      "(\n",
      "    dealer_key    INT NOT NULL AUTO_INCREMENT,   \n",
      "    dealer_id     int,                  \n",
      "    dealer_name   varchar(4) NOT NULL,  \n",
      "    age           int(2),               \n",
      "    gender        varchar(2),           \n",
      "    PRIMARY KEY(dealer_key))\n"
     ]
    }
   ],
   "source": [
    "sql_dealer = ( \"CREATE TABLE dm_dealer \\n\"\n",
    "      + '(\\n'\n",
    "      + '    dealer_key    INT NOT NULL AUTO_INCREMENT,   \\n'\n",
    "      + '    dealer_id     int,                  \\n'\n",
    "      + '    dealer_name   varchar(4) NOT NULL,  \\n'\n",
    "      + '    age           int(2),               \\n'\n",
    "      + '    gender        varchar(2),           \\n'\n",
    "      + '    PRIMARY KEY(dealer_key)'\n",
    "      + ')'\n",
    "      )\n",
    "\n",
    "print(sql_dealer)"
   ]
  },
  {
   "cell_type": "code",
   "execution_count": 7,
   "id": "3721be36",
   "metadata": {},
   "outputs": [
    {
     "name": "stdout",
     "output_type": "stream",
     "text": [
      "CREATE TABLE dm_customer \n",
      "(\n",
      "    customer_key    INT NOT NULL AUTO_INCREMENT,   \n",
      "    customer_id     int,                  \n",
      "    customer_name   varchar(4) NOT NULL,  \n",
      "    age           int(2),                 \n",
      "    gender        varchar(2),             \n",
      "    PRIMARY KEY(customer_key))\n"
     ]
    }
   ],
   "source": [
    "sql_customer = ( \"CREATE TABLE dm_customer \\n\"\n",
    "      + '(\\n'\n",
    "      + '    customer_key    INT NOT NULL AUTO_INCREMENT,   \\n'\n",
    "      + '    customer_id     int,                  \\n'\n",
    "      + '    customer_name   varchar(4) NOT NULL,  \\n'\n",
    "      + '    age           int(2),                 \\n'\n",
    "      + '    gender        varchar(2),             \\n' \n",
    "      + '    PRIMARY KEY(customer_key)'\n",
    "      + ')'\n",
    "      )\n",
    "\n",
    "print(sql_customer)"
   ]
  },
  {
   "cell_type": "markdown",
   "id": "7591b7c9",
   "metadata": {},
   "source": [
    "creating the region table which contains the details of the car sale region "
   ]
  },
  {
   "cell_type": "code",
   "execution_count": 8,
   "id": "c6c6a55e",
   "metadata": {},
   "outputs": [
    {
     "name": "stdout",
     "output_type": "stream",
     "text": [
      "CREATE TABLE dm_region \n",
      "(\n",
      "    reg_key   INT NOT NULL AUTO_INCREMENT,  \n",
      "    reg_id    int,                   \n",
      "    city      varchar(10) NOT NULL,  \n",
      "    PRIMARY KEY(reg_key))\n"
     ]
    }
   ],
   "source": [
    "sql_region = ( \"CREATE TABLE dm_region \\n\"\n",
    "      + '(\\n'\n",
    "      + '    reg_key   INT NOT NULL AUTO_INCREMENT,  \\n'\n",
    "      + '    reg_id    int,                   \\n'\n",
    "      + '    city      varchar(10) NOT NULL,  \\n'\n",
    "      + '    PRIMARY KEY(reg_key)'\n",
    "      + ')'\n",
    "      )\n",
    "\n",
    "print(sql_region)"
   ]
  },
  {
   "cell_type": "markdown",
   "id": "5580e95e",
   "metadata": {},
   "source": [
    "creating the calender table which contains the details of the sale date"
   ]
  },
  {
   "cell_type": "code",
   "execution_count": 9,
   "id": "db33eb87",
   "metadata": {
    "scrolled": true
   },
   "outputs": [
    {
     "name": "stdout",
     "output_type": "stream",
     "text": [
      "CREATE TABLE dm_calender \n",
      "(\n",
      "    cal_key   INT NOT NULL AUTO_INCREMENT,   \n",
      "    month     varchar(45),       \n",
      "    year      int(4),             \n",
      "    PRIMARY KEY (cal_key))\n"
     ]
    }
   ],
   "source": [
    "sql_calender = ( \"CREATE TABLE dm_calender \\n\"\n",
    "      + '(\\n'\n",
    "      + '    cal_key   INT NOT NULL AUTO_INCREMENT,   \\n'\n",
    "      + '    month     varchar(45),       \\n'\n",
    "      + '    year      int(4),             \\n'\n",
    "      + '    PRIMARY KEY (cal_key)'\n",
    "      + ')'\n",
    "      )\n",
    "\n",
    "print(sql_calender)"
   ]
  },
  {
   "cell_type": "markdown",
   "id": "f31781d3",
   "metadata": {},
   "source": [
    "# fact-table: car_purchase"
   ]
  },
  {
   "cell_type": "code",
   "execution_count": 10,
   "id": "51cbf5db",
   "metadata": {},
   "outputs": [
    {
     "name": "stdout",
     "output_type": "stream",
     "text": [
      "CREATE TABLE fact_purchase(\n",
      " fact_purchase_key INT NOT NULL AUTO_INCREMENT,   \n",
      " dealer_key    int,               \n",
      " car_key       int,               \n",
      " reg_key       int,               \n",
      " cal_key       int,               \n",
      " sale_units    int,               \n",
      " PRIMARY KEY (fact_purchase_key))\n"
     ]
    }
   ],
   "source": [
    "sql_purchase=(\"CREATE TABLE fact_purchase\"\n",
    "        +'(\\n'\n",
    "        \n",
    "        +' fact_purchase_key INT NOT NULL AUTO_INCREMENT,   \\n'\n",
    "        +' dealer_key    int,               \\n'\n",
    "        +' car_key       int,               \\n'\n",
    "        +' reg_key       int,               \\n'\n",
    "        +' cal_key       int,               \\n'\n",
    "        +' sale_units    int,               \\n'\n",
    "        +' PRIMARY KEY (fact_purchase_key)'\n",
    "        +')'\n",
    "        )\n",
    "\n",
    "print(sql_purchase)"
   ]
  },
  {
   "cell_type": "markdown",
   "id": "bbc15caa",
   "metadata": {},
   "source": [
    "### fact table: customer fact table"
   ]
  },
  {
   "cell_type": "code",
   "execution_count": 11,
   "id": "665af9e5",
   "metadata": {},
   "outputs": [
    {
     "name": "stdout",
     "output_type": "stream",
     "text": [
      "CREATE TABLE fact_customer(\n",
      " fact_customer_key INT NOT NULL AUTO_INCREMENT,  customer_key  int,               \n",
      " dealer_key    int,               \n",
      " car_key       int,               \n",
      " reg_key       int,               \n",
      " cal_key       int,               \n",
      " sale_price    int,               \n",
      " PRIMARY KEY (fact_customer_key))\n"
     ]
    }
   ],
   "source": [
    "sql_fact_cust=(\"CREATE TABLE fact_customer\"\n",
    "        +'(\\n'\n",
    "               \n",
    "        +' fact_customer_key INT NOT NULL AUTO_INCREMENT, '\n",
    "        +' customer_key  int,               \\n'\n",
    "        +' dealer_key    int,               \\n'\n",
    "        +' car_key       int,               \\n'\n",
    "        +' reg_key       int,               \\n'\n",
    "        +' cal_key       int,               \\n'\n",
    "        +' sale_price    int,               \\n'\n",
    "        +' PRIMARY KEY (fact_customer_key)'\n",
    "        +')'\n",
    "        )\n",
    "\n",
    "print(sql_fact_cust)"
   ]
  },
  {
   "cell_type": "code",
   "execution_count": 12,
   "id": "5c6373f8",
   "metadata": {},
   "outputs": [],
   "source": [
    "# executing all the sql commands\n",
    "\n",
    "cursor = conn.cursor()\n",
    "cursor.execute(sql_car)\n"
   ]
  },
  {
   "cell_type": "code",
   "execution_count": 13,
   "id": "d4f4967e",
   "metadata": {},
   "outputs": [],
   "source": [
    "cursor.execute(sql_customer)"
   ]
  },
  {
   "cell_type": "code",
   "execution_count": 14,
   "id": "2d6d0c9c",
   "metadata": {},
   "outputs": [],
   "source": [
    "cursor.execute(sql_region)"
   ]
  },
  {
   "cell_type": "code",
   "execution_count": 15,
   "id": "0c17fc94",
   "metadata": {},
   "outputs": [],
   "source": [
    "cursor.execute(sql_calender)"
   ]
  },
  {
   "cell_type": "code",
   "execution_count": 16,
   "id": "450ed434",
   "metadata": {},
   "outputs": [],
   "source": [
    "cursor.execute(sql_purchase)"
   ]
  },
  {
   "cell_type": "code",
   "execution_count": 17,
   "id": "8e27da77",
   "metadata": {},
   "outputs": [
    {
     "name": "stdout",
     "output_type": "stream",
     "text": [
      "Done!\n"
     ]
    }
   ],
   "source": [
    "#closing the cursor connection\n",
    "\n",
    "conn.close()\n",
    "print('Done!')"
   ]
  },
  {
   "cell_type": "code",
   "execution_count": null,
   "id": "4b37f86f",
   "metadata": {},
   "outputs": [],
   "source": []
  }
 ],
 "metadata": {
  "kernelspec": {
   "display_name": "Python 3 (ipykernel)",
   "language": "python",
   "name": "python3"
  },
  "language_info": {
   "codemirror_mode": {
    "name": "ipython",
    "version": 3
   },
   "file_extension": ".py",
   "mimetype": "text/x-python",
   "name": "python",
   "nbconvert_exporter": "python",
   "pygments_lexer": "ipython3",
   "version": "3.9.7"
  }
 },
 "nbformat": 4,
 "nbformat_minor": 5
}
