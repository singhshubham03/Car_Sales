{
 "cells": [
  {
   "cell_type": "code",
   "execution_count": 1,
   "id": "a09bdacb",
   "metadata": {},
   "outputs": [],
   "source": [
    "# Importing all the necessary libraries\n",
    "\n",
    "from mysql.connector import MySQLConnection, Error\n",
    "from mydbutils import make_connection, do_query_return_all"
   ]
  },
  {
   "cell_type": "code",
   "execution_count": 2,
   "id": "8493aa75",
   "metadata": {},
   "outputs": [
    {
     "data": {
      "text/plain": [
       "<mysql.connector.connection.MySQLConnection at 0x1de7362a040>"
      ]
     },
     "execution_count": 2,
     "metadata": {},
     "output_type": "execute_result"
    }
   ],
   "source": [
    "# creating the mysql connection\n",
    "\n",
    "conn = make_connection(config_file = 'config-cars.ini')\n",
    "conn"
   ]
  },
  {
   "cell_type": "code",
   "execution_count": 3,
   "id": "922e9f53",
   "metadata": {},
   "outputs": [
    {
     "data": {
      "text/plain": [
       "<mysql.connector.cursor.MySQLCursor at 0x1de71941190>"
      ]
     },
     "execution_count": 3,
     "metadata": {},
     "output_type": "execute_result"
    }
   ],
   "source": [
    "# creating cursor to perform sql operations\n",
    "\n",
    "cursor = conn.cursor()\n",
    "cursor"
   ]
  },
  {
   "cell_type": "code",
   "execution_count": 4,
   "id": "40d24535",
   "metadata": {},
   "outputs": [
    {
     "name": "stdout",
     "output_type": "stream",
     "text": [
      "existing tables dropped\n"
     ]
    }
   ],
   "source": [
    "# Deleting the tables if already exists, so that we recrete them using sql commands\n",
    "\n",
    "\n",
    "# cursor.execute('DROP TABLE IF EXISTS dealer')\n",
    "# cursor.execute('DROP TABLE IF EXISTS car_make')\n",
    "# cursor.execute('DROP TABLE IF EXISTS car_type')\n",
    "# cursor.execute('DROP TABLE IF EXISTS car')\n",
    "# cursor.execute('DROP TABLE IF EXISTS region')\n",
    "# cursor.execute('DROP TABLE IF EXISTS customer')\n",
    "cursor.execute('DROP TABLE IF EXISTS car_sale')\n",
    "\n",
    "print(\"existing tables dropped\")"
   ]
  },
  {
   "cell_type": "code",
   "execution_count": 5,
   "id": "cfcff213",
   "metadata": {},
   "outputs": [],
   "source": [
    "#creating the tables using sql commands"
   ]
  },
  {
   "cell_type": "code",
   "execution_count": 6,
   "id": "8e144c81",
   "metadata": {},
   "outputs": [
    {
     "name": "stdout",
     "output_type": "stream",
     "text": [
      "CREATE TABLE customer        \n",
      "(\n",
      "    customer_id   int PRIMARY KEY,    \n",
      "    name        varchar(50) NOT NULL, \n",
      "    age         int,                  \n",
      "    gender      varchar(10),          \n",
      "    email       varchar(150)          \n",
      ")\n"
     ]
    }
   ],
   "source": [
    "sql_customer = ( \"CREATE TABLE customer        \\n\"\n",
    "      + '(\\n'\n",
    "      + '    customer_id   int PRIMARY KEY,    \\n'\n",
    "      + '    name        varchar(50) NOT NULL, \\n'\n",
    "      + '    age         int,                  \\n'\n",
    "      + '    gender      varchar(10),          \\n'\n",
    "      + '    email       varchar(150)          \\n'        \n",
    "      + ')'\n",
    "      )\n",
    "\n",
    "print(sql_customer)"
   ]
  },
  {
   "cell_type": "code",
   "execution_count": 7,
   "id": "b9cde80a",
   "metadata": {},
   "outputs": [
    {
     "name": "stdout",
     "output_type": "stream",
     "text": [
      "CREATE TABLE dealer            \n",
      "(\n",
      "    dealer_id   int PRIMARY KEY,      \n",
      "    name        varchar(50) NOT NULL, \n",
      "    age         int,                  \n",
      "    gender      varchar(10),          \n",
      "    email       varchar(150)           \n",
      ")\n"
     ]
    }
   ],
   "source": [
    "sql_dealer = ( \"CREATE TABLE dealer            \\n\"\n",
    "      + '(\\n'\n",
    "      + '    dealer_id   int PRIMARY KEY,      \\n'\n",
    "      + '    name        varchar(50) NOT NULL, \\n'\n",
    "      + '    age         int,                  \\n'\n",
    "      + '    gender      varchar(10),          \\n'\n",
    "      + '    email       varchar(150)           \\n'        \n",
    "      + ')'\n",
    "      )\n",
    "\n",
    "print(sql_dealer)"
   ]
  },
  {
   "cell_type": "code",
   "execution_count": 8,
   "id": "2c226074",
   "metadata": {},
   "outputs": [
    {
     "name": "stdout",
     "output_type": "stream",
     "text": [
      "CREATE TABLE car_make         \n",
      "(\n",
      "    make_id   int PRIMARY KEY,     \n",
      "    make      varchar(25) NOT NULL \n",
      ")\n"
     ]
    }
   ],
   "source": [
    "sql_make = ( \"CREATE TABLE car_make         \\n\"\n",
    "      + '(\\n'\n",
    "      + '    make_id   int PRIMARY KEY,     \\n'\n",
    "      + '    make      varchar(25) NOT NULL \\n'\n",
    "      + ')'\n",
    "      )\n",
    "\n",
    "print(sql_make)"
   ]
  },
  {
   "cell_type": "code",
   "execution_count": 9,
   "id": "c6c6a55e",
   "metadata": {},
   "outputs": [
    {
     "name": "stdout",
     "output_type": "stream",
     "text": [
      "CREATE TABLE car_type           \n",
      "(\n",
      "    type_id    int PRIMARY KEY,      \n",
      "    type_name   varchar(25) NOT NULL \n",
      ")\n"
     ]
    }
   ],
   "source": [
    "sql_type = ( \"CREATE TABLE car_type           \\n\"\n",
    "      + '(\\n'\n",
    "      + '    type_id    int PRIMARY KEY,      \\n'\n",
    "      + '    type_name   varchar(25) NOT NULL \\n'\n",
    "      + ')'\n",
    "      )\n",
    "\n",
    "print(sql_type)"
   ]
  },
  {
   "cell_type": "code",
   "execution_count": 10,
   "id": "db33eb87",
   "metadata": {},
   "outputs": [
    {
     "name": "stdout",
     "output_type": "stream",
     "text": [
      "CREATE TABLE car           \n",
      "(\n",
      "car_id        int PRIMARY KEY, \n",
      "make_id       int NOT NULL,    \n",
      "type_id       int NOT NULL,    \n",
      "car_name      varchar(50),     \n",
      "price         float,           \n",
      "FOREIGN KEY   (make_id) REFERENCES car_make (make_id), \n",
      "FOREIGN KEY   (type_id) REFERENCES car_type (type_id)  \n",
      ")\n"
     ]
    }
   ],
   "source": [
    "sql_car = ( \"CREATE TABLE car           \\n\"\n",
    "      + '(\\n'\n",
    "      + 'car_id        int PRIMARY KEY, \\n'\n",
    "      + 'make_id       int NOT NULL,    \\n'\n",
    "      + 'type_id       int NOT NULL,    \\n'\n",
    "      + 'car_name      varchar(50),     \\n'\n",
    "      + 'price         float,           \\n'\n",
    "      + 'FOREIGN KEY   (make_id) REFERENCES car_make (make_id), \\n'\n",
    "      + 'FOREIGN KEY   (type_id) REFERENCES car_type (type_id)  \\n'\n",
    "      + ')'\n",
    "      )\n",
    "\n",
    "print(sql_car)"
   ]
  },
  {
   "cell_type": "code",
   "execution_count": 11,
   "id": "86c9f281",
   "metadata": {},
   "outputs": [
    {
     "name": "stdout",
     "output_type": "stream",
     "text": [
      "CREATE TABLE region        \n",
      "(\n",
      "    reg_id   int PRIMARY KEY,     \n",
      "    city     varchar(45) NOT NULL \n",
      ")\n"
     ]
    }
   ],
   "source": [
    "sql_region = ( \"CREATE TABLE region        \\n\"\n",
    "      + '(\\n'\n",
    "      + '    reg_id   int PRIMARY KEY,     \\n'\n",
    "      + '    city     varchar(45) NOT NULL \\n'\n",
    "      + ')'\n",
    "      )\n",
    "\n",
    "print(sql_region)"
   ]
  },
  {
   "cell_type": "code",
   "execution_count": 12,
   "id": "4b186d2f",
   "metadata": {},
   "outputs": [
    {
     "name": "stdout",
     "output_type": "stream",
     "text": [
      "CREATE TABLE car_sale \n",
      "(\n",
      "sale_id      int NOT NULL AUTO_INCREMENT PRIMARY KEY, \n",
      "dealer_id    int NOT NULL,   \n",
      "customer_id  int NOT NULL,   \n",
      "car_id       int NOT NULL,   \n",
      "reg_id       int NOT NULL,   \n",
      "sale_units   int,  \n",
      "year         int,  \n",
      "month        varchar(20),  \n",
      "FOREIGN KEY  (dealer_id) REFERENCES dealer (dealer_id),      \n",
      "FOREIGN KEY  (customer_id) REFERENCES customer (customer_id),\n",
      "FOREIGN KEY  (car_id) REFERENCES car (car_id),  \n",
      "FOREIGN KEY  (reg_id) REFERENCES region (reg_id)\n",
      ")\n"
     ]
    }
   ],
   "source": [
    "sql_sale = ( \"CREATE TABLE car_sale \\n\"\n",
    "      + '(\\n'\n",
    "      + 'sale_id      int NOT NULL AUTO_INCREMENT PRIMARY KEY, \\n'\n",
    "      + 'dealer_id    int NOT NULL,   \\n'\n",
    "      + 'customer_id  int NOT NULL,   \\n'            \n",
    "      + 'car_id       int NOT NULL,   \\n'\n",
    "      + 'reg_id       int NOT NULL,   \\n'\n",
    "      + 'sale_units   int,  \\n'\n",
    "      + 'year         int,  \\n'      \n",
    "      + 'month        varchar(20),  \\n'      \n",
    "      + 'FOREIGN KEY  (dealer_id) REFERENCES dealer (dealer_id),      \\n'\n",
    "      + 'FOREIGN KEY  (customer_id) REFERENCES customer (customer_id),\\n'\n",
    "      + 'FOREIGN KEY  (car_id) REFERENCES car (car_id),  \\n'\n",
    "      + 'FOREIGN KEY  (reg_id) REFERENCES region (reg_id)\\n'\n",
    "     \n",
    "      + ')'\n",
    "      )\n",
    "\n",
    "print(sql_sale)"
   ]
  },
  {
   "cell_type": "code",
   "execution_count": 13,
   "id": "bc127785",
   "metadata": {},
   "outputs": [],
   "source": [
    "cursor.execute(sql_dealer)"
   ]
  },
  {
   "cell_type": "code",
   "execution_count": 14,
   "id": "d4f4967e",
   "metadata": {},
   "outputs": [],
   "source": [
    "cursor.execute(sql_make)"
   ]
  },
  {
   "cell_type": "code",
   "execution_count": 15,
   "id": "2d6d0c9c",
   "metadata": {},
   "outputs": [],
   "source": [
    "cursor.execute(sql_type)"
   ]
  },
  {
   "cell_type": "code",
   "execution_count": 16,
   "id": "0c17fc94",
   "metadata": {},
   "outputs": [],
   "source": [
    "cursor.execute(sql_car)"
   ]
  },
  {
   "cell_type": "code",
   "execution_count": 17,
   "id": "156438ab",
   "metadata": {},
   "outputs": [],
   "source": [
    "cursor.execute(sql_customer)"
   ]
  },
  {
   "cell_type": "code",
   "execution_count": 18,
   "id": "450ed434",
   "metadata": {},
   "outputs": [],
   "source": [
    "cursor.execute(sql_region)"
   ]
  },
  {
   "cell_type": "code",
   "execution_count": 19,
   "id": "054cf359",
   "metadata": {},
   "outputs": [],
   "source": [
    "cursor.execute(sql_sale)"
   ]
  },
  {
   "cell_type": "code",
   "execution_count": 20,
   "id": "8e27da77",
   "metadata": {},
   "outputs": [
    {
     "name": "stdout",
     "output_type": "stream",
     "text": [
      "Done!\n"
     ]
    }
   ],
   "source": [
    "#closing the cursor connection\n",
    "\n",
    "conn.close()\n",
    "print('Done!')"
   ]
  },
  {
   "cell_type": "code",
   "execution_count": null,
   "id": "8ea4b9c8",
   "metadata": {},
   "outputs": [],
   "source": []
  },
  {
   "cell_type": "code",
   "execution_count": null,
   "id": "8890fc75",
   "metadata": {},
   "outputs": [],
   "source": []
  }
 ],
 "metadata": {
  "kernelspec": {
   "display_name": "Python 3 (ipykernel)",
   "language": "python",
   "name": "python3"
  },
  "language_info": {
   "codemirror_mode": {
    "name": "ipython",
    "version": 3
   },
   "file_extension": ".py",
   "mimetype": "text/x-python",
   "name": "python",
   "nbconvert_exporter": "python",
   "pygments_lexer": "ipython3",
   "version": "3.9.7"
  }
 },
 "nbformat": 4,
 "nbformat_minor": 5
}
